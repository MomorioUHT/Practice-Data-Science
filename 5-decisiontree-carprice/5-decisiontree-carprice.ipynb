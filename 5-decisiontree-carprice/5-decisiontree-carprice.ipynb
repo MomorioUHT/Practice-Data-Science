{
 "cells": [
  {
   "cell_type": "code",
   "execution_count": 16,
   "id": "95c7cf91-581b-434e-a667-72db99e956eb",
   "metadata": {},
   "outputs": [],
   "source": [
    "import pandas as pd\n",
    "from sklearn.model_selection import train_test_split\n",
    "from sklearn.model_selection import GridSearchCV"
   ]
  },
  {
   "cell_type": "code",
   "execution_count": 17,
   "id": "4e5ba6de-f1c2-4ec7-9e7a-2d3009540663",
   "metadata": {},
   "outputs": [
    {
     "data": {
      "text/html": [
       "<div>\n",
       "<style scoped>\n",
       "    .dataframe tbody tr th:only-of-type {\n",
       "        vertical-align: middle;\n",
       "    }\n",
       "\n",
       "    .dataframe tbody tr th {\n",
       "        vertical-align: top;\n",
       "    }\n",
       "\n",
       "    .dataframe thead th {\n",
       "        text-align: right;\n",
       "    }\n",
       "</style>\n",
       "<table border=\"1\" class=\"dataframe\">\n",
       "  <thead>\n",
       "    <tr style=\"text-align: right;\">\n",
       "      <th></th>\n",
       "      <th>ยี่ห้อ</th>\n",
       "      <th>ปีที่ออกขายครั้งแรก</th>\n",
       "      <th>ราคาขายมือสอง</th>\n",
       "      <th>กิโลเมตรที่ขับไปแล้ว</th>\n",
       "      <th>ประเภทเชื้อเพลิง</th>\n",
       "      <th>ประเภทผู้ขายรถ</th>\n",
       "      <th>ประเภทเกียร์</th>\n",
       "      <th>จำนวนเจ้าของรถในอดีต</th>\n",
       "    </tr>\n",
       "  </thead>\n",
       "  <tbody>\n",
       "    <tr>\n",
       "      <th>0</th>\n",
       "      <td>Suzuki</td>\n",
       "      <td>2007</td>\n",
       "      <td>60000</td>\n",
       "      <td>70000.0</td>\n",
       "      <td>เบนซิน</td>\n",
       "      <td>เจ้าของขายเอง</td>\n",
       "      <td>Manual</td>\n",
       "      <td>3.0</td>\n",
       "    </tr>\n",
       "    <tr>\n",
       "      <th>1</th>\n",
       "      <td>Suzuki</td>\n",
       "      <td>2007</td>\n",
       "      <td>135000</td>\n",
       "      <td>50000.0</td>\n",
       "      <td>เบนซิน</td>\n",
       "      <td>เจ้าของขายเอง</td>\n",
       "      <td>Manual</td>\n",
       "      <td>1.0</td>\n",
       "    </tr>\n",
       "    <tr>\n",
       "      <th>2</th>\n",
       "      <td>Hyundai Verna 1.6 SX</td>\n",
       "      <td>2012</td>\n",
       "      <td>600000</td>\n",
       "      <td>100000.0</td>\n",
       "      <td>ดีเซล</td>\n",
       "      <td>เจ้าของขายเอง</td>\n",
       "      <td>Manual</td>\n",
       "      <td>1.0</td>\n",
       "    </tr>\n",
       "    <tr>\n",
       "      <th>3</th>\n",
       "      <td>Mitsubishi</td>\n",
       "      <td>2017</td>\n",
       "      <td>250000</td>\n",
       "      <td>46000.0</td>\n",
       "      <td>เบนซิน</td>\n",
       "      <td>เจ้าของขายเอง</td>\n",
       "      <td>Manual</td>\n",
       "      <td>1.0</td>\n",
       "    </tr>\n",
       "    <tr>\n",
       "      <th>4</th>\n",
       "      <td>Honda</td>\n",
       "      <td>2014</td>\n",
       "      <td>450000</td>\n",
       "      <td>141000.0</td>\n",
       "      <td>ดีเซล</td>\n",
       "      <td>เจ้าของขายเอง</td>\n",
       "      <td>Manual</td>\n",
       "      <td>2.0</td>\n",
       "    </tr>\n",
       "    <tr>\n",
       "      <th>...</th>\n",
       "      <td>...</td>\n",
       "      <td>...</td>\n",
       "      <td>...</td>\n",
       "      <td>...</td>\n",
       "      <td>...</td>\n",
       "      <td>...</td>\n",
       "      <td>...</td>\n",
       "      <td>...</td>\n",
       "    </tr>\n",
       "    <tr>\n",
       "      <th>504</th>\n",
       "      <td>NaN</td>\n",
       "      <td>NaN</td>\n",
       "      <td>NaN</td>\n",
       "      <td>NaN</td>\n",
       "      <td>NaN</td>\n",
       "      <td>NaN</td>\n",
       "      <td>NaN</td>\n",
       "      <td>NaN</td>\n",
       "    </tr>\n",
       "    <tr>\n",
       "      <th>505</th>\n",
       "      <td>NaN</td>\n",
       "      <td>NaN</td>\n",
       "      <td></td>\n",
       "      <td>NaN</td>\n",
       "      <td>NaN</td>\n",
       "      <td>NaN</td>\n",
       "      <td>NaN</td>\n",
       "      <td>NaN</td>\n",
       "    </tr>\n",
       "    <tr>\n",
       "      <th>506</th>\n",
       "      <td>NaN</td>\n",
       "      <td>NaN</td>\n",
       "      <td>NaN</td>\n",
       "      <td>NaN</td>\n",
       "      <td>NaN</td>\n",
       "      <td>NaN</td>\n",
       "      <td>NaN</td>\n",
       "      <td>NaN</td>\n",
       "    </tr>\n",
       "    <tr>\n",
       "      <th>507</th>\n",
       "      <td>NaN</td>\n",
       "      <td>NaN</td>\n",
       "      <td>NaN</td>\n",
       "      <td>NaN</td>\n",
       "      <td>NaN</td>\n",
       "      <td>NaN</td>\n",
       "      <td>NaN</td>\n",
       "      <td>NaN</td>\n",
       "    </tr>\n",
       "    <tr>\n",
       "      <th>508</th>\n",
       "      <td>NaN</td>\n",
       "      <td></td>\n",
       "      <td>NaN</td>\n",
       "      <td>NaN</td>\n",
       "      <td>NaN</td>\n",
       "      <td>NaN</td>\n",
       "      <td>NaN</td>\n",
       "      <td>NaN</td>\n",
       "    </tr>\n",
       "  </tbody>\n",
       "</table>\n",
       "<p>509 rows × 8 columns</p>\n",
       "</div>"
      ],
      "text/plain": [
       "                   ยี่ห้อ ปีที่ออกขายครั้งแรก ราคาขายมือสอง  \\\n",
       "0                  Suzuki                2007         60000   \n",
       "1                  Suzuki                2007        135000   \n",
       "2    Hyundai Verna 1.6 SX                2012        600000   \n",
       "3              Mitsubishi                2017        250000   \n",
       "4                   Honda                2014        450000   \n",
       "..                    ...                 ...           ...   \n",
       "504                   NaN                 NaN           NaN   \n",
       "505                   NaN                 NaN                 \n",
       "506                   NaN                 NaN           NaN   \n",
       "507                   NaN                 NaN           NaN   \n",
       "508                   NaN                               NaN   \n",
       "\n",
       "     กิโลเมตรที่ขับไปแล้ว ประเภทเชื้อเพลิง ประเภทผู้ขายรถ ประเภทเกียร์  \\\n",
       "0                 70000.0           เบนซิน  เจ้าของขายเอง       Manual   \n",
       "1                 50000.0           เบนซิน  เจ้าของขายเอง       Manual   \n",
       "2                100000.0            ดีเซล  เจ้าของขายเอง       Manual   \n",
       "3                 46000.0           เบนซิน  เจ้าของขายเอง       Manual   \n",
       "4                141000.0            ดีเซล  เจ้าของขายเอง       Manual   \n",
       "..                    ...              ...            ...          ...   \n",
       "504                   NaN              NaN            NaN          NaN   \n",
       "505                   NaN              NaN            NaN          NaN   \n",
       "506                   NaN              NaN            NaN          NaN   \n",
       "507                   NaN              NaN            NaN          NaN   \n",
       "508                   NaN              NaN            NaN          NaN   \n",
       "\n",
       "     จำนวนเจ้าของรถในอดีต  \n",
       "0                     3.0  \n",
       "1                     1.0  \n",
       "2                     1.0  \n",
       "3                     1.0  \n",
       "4                     2.0  \n",
       "..                    ...  \n",
       "504                   NaN  \n",
       "505                   NaN  \n",
       "506                   NaN  \n",
       "507                   NaN  \n",
       "508                   NaN  \n",
       "\n",
       "[509 rows x 8 columns]"
      ]
     },
     "execution_count": 17,
     "metadata": {},
     "output_type": "execute_result"
    }
   ],
   "source": [
    "df = pd.read_excel(\"CarPrice.xlsx\")\n",
    "df"
   ]
  },
  {
   "cell_type": "code",
   "execution_count": 18,
   "id": "a6d57c41-07ec-4ae7-b9cd-61e13abba2ae",
   "metadata": {},
   "outputs": [
    {
     "name": "stdout",
     "output_type": "stream",
     "text": [
      "<class 'pandas.core.frame.DataFrame'>\n",
      "RangeIndex: 509 entries, 0 to 508\n",
      "Data columns (total 8 columns):\n",
      " #   Column                Non-Null Count  Dtype  \n",
      "---  ------                --------------  -----  \n",
      " 0   ยี่ห้อ                501 non-null    object \n",
      " 1   ปีที่ออกขายครั้งแรก   502 non-null    object \n",
      " 2   ราคาขายมือสอง         502 non-null    object \n",
      " 3   กิโลเมตรที่ขับไปแล้ว  501 non-null    float64\n",
      " 4   ประเภทเชื้อเพลิง      501 non-null    object \n",
      " 5   ประเภทผู้ขายรถ        501 non-null    object \n",
      " 6   ประเภทเกียร์          501 non-null    object \n",
      " 7   จำนวนเจ้าของรถในอดีต  501 non-null    float64\n",
      "dtypes: float64(2), object(6)\n",
      "memory usage: 31.9+ KB\n"
     ]
    }
   ],
   "source": [
    "df.info()"
   ]
  },
  {
   "cell_type": "markdown",
   "id": "830d1d3a-af70-4ce1-967d-5718e1ea000d",
   "metadata": {},
   "source": [
    "# ตัด NaN"
   ]
  },
  {
   "cell_type": "code",
   "execution_count": 19,
   "id": "b276d043-27d6-4afb-814b-f37e062e1099",
   "metadata": {},
   "outputs": [
    {
     "name": "stdout",
     "output_type": "stream",
     "text": [
      "<class 'pandas.core.frame.DataFrame'>\n",
      "Index: 501 entries, 0 to 500\n",
      "Data columns (total 8 columns):\n",
      " #   Column                Non-Null Count  Dtype  \n",
      "---  ------                --------------  -----  \n",
      " 0   ยี่ห้อ                501 non-null    object \n",
      " 1   ปีที่ออกขายครั้งแรก   501 non-null    object \n",
      " 2   ราคาขายมือสอง         501 non-null    object \n",
      " 3   กิโลเมตรที่ขับไปแล้ว  501 non-null    float64\n",
      " 4   ประเภทเชื้อเพลิง      501 non-null    object \n",
      " 5   ประเภทผู้ขายรถ        501 non-null    object \n",
      " 6   ประเภทเกียร์          501 non-null    object \n",
      " 7   จำนวนเจ้าของรถในอดีต  501 non-null    float64\n",
      "dtypes: float64(2), object(6)\n",
      "memory usage: 35.2+ KB\n"
     ]
    }
   ],
   "source": [
    "df = df.dropna(axis=0)\n",
    "df.info()"
   ]
  },
  {
   "cell_type": "markdown",
   "id": "27beab44-9050-4c01-b523-272e95e7d383",
   "metadata": {},
   "source": [
    "# เพิ่ม Feature อายุของรถ"
   ]
  },
  {
   "cell_type": "code",
   "execution_count": 20,
   "id": "2e4024df-bc03-4a3f-a2e8-18b79b235692",
   "metadata": {},
   "outputs": [
    {
     "data": {
      "text/html": [
       "<div>\n",
       "<style scoped>\n",
       "    .dataframe tbody tr th:only-of-type {\n",
       "        vertical-align: middle;\n",
       "    }\n",
       "\n",
       "    .dataframe tbody tr th {\n",
       "        vertical-align: top;\n",
       "    }\n",
       "\n",
       "    .dataframe thead th {\n",
       "        text-align: right;\n",
       "    }\n",
       "</style>\n",
       "<table border=\"1\" class=\"dataframe\">\n",
       "  <thead>\n",
       "    <tr style=\"text-align: right;\">\n",
       "      <th></th>\n",
       "      <th>ยี่ห้อ</th>\n",
       "      <th>ปีที่ออกขายครั้งแรก</th>\n",
       "      <th>ราคาขายมือสอง</th>\n",
       "      <th>กิโลเมตรที่ขับไปแล้ว</th>\n",
       "      <th>ประเภทเชื้อเพลิง</th>\n",
       "      <th>ประเภทผู้ขายรถ</th>\n",
       "      <th>ประเภทเกียร์</th>\n",
       "      <th>จำนวนเจ้าของรถในอดีต</th>\n",
       "      <th>อายุของรถ</th>\n",
       "    </tr>\n",
       "  </thead>\n",
       "  <tbody>\n",
       "    <tr>\n",
       "      <th>0</th>\n",
       "      <td>Suzuki</td>\n",
       "      <td>2007</td>\n",
       "      <td>60000</td>\n",
       "      <td>70000.0</td>\n",
       "      <td>เบนซิน</td>\n",
       "      <td>เจ้าของขายเอง</td>\n",
       "      <td>Manual</td>\n",
       "      <td>3.0</td>\n",
       "      <td>18</td>\n",
       "    </tr>\n",
       "    <tr>\n",
       "      <th>1</th>\n",
       "      <td>Suzuki</td>\n",
       "      <td>2007</td>\n",
       "      <td>135000</td>\n",
       "      <td>50000.0</td>\n",
       "      <td>เบนซิน</td>\n",
       "      <td>เจ้าของขายเอง</td>\n",
       "      <td>Manual</td>\n",
       "      <td>1.0</td>\n",
       "      <td>18</td>\n",
       "    </tr>\n",
       "    <tr>\n",
       "      <th>2</th>\n",
       "      <td>Hyundai Verna 1.6 SX</td>\n",
       "      <td>2012</td>\n",
       "      <td>600000</td>\n",
       "      <td>100000.0</td>\n",
       "      <td>ดีเซล</td>\n",
       "      <td>เจ้าของขายเอง</td>\n",
       "      <td>Manual</td>\n",
       "      <td>1.0</td>\n",
       "      <td>13</td>\n",
       "    </tr>\n",
       "    <tr>\n",
       "      <th>3</th>\n",
       "      <td>Mitsubishi</td>\n",
       "      <td>2017</td>\n",
       "      <td>250000</td>\n",
       "      <td>46000.0</td>\n",
       "      <td>เบนซิน</td>\n",
       "      <td>เจ้าของขายเอง</td>\n",
       "      <td>Manual</td>\n",
       "      <td>1.0</td>\n",
       "      <td>8</td>\n",
       "    </tr>\n",
       "    <tr>\n",
       "      <th>4</th>\n",
       "      <td>Honda</td>\n",
       "      <td>2014</td>\n",
       "      <td>450000</td>\n",
       "      <td>141000.0</td>\n",
       "      <td>ดีเซล</td>\n",
       "      <td>เจ้าของขายเอง</td>\n",
       "      <td>Manual</td>\n",
       "      <td>2.0</td>\n",
       "      <td>11</td>\n",
       "    </tr>\n",
       "    <tr>\n",
       "      <th>...</th>\n",
       "      <td>...</td>\n",
       "      <td>...</td>\n",
       "      <td>...</td>\n",
       "      <td>...</td>\n",
       "      <td>...</td>\n",
       "      <td>...</td>\n",
       "      <td>...</td>\n",
       "      <td>...</td>\n",
       "      <td>...</td>\n",
       "    </tr>\n",
       "    <tr>\n",
       "      <th>496</th>\n",
       "      <td>Ford</td>\n",
       "      <td>2019</td>\n",
       "      <td>700000</td>\n",
       "      <td>12586.0</td>\n",
       "      <td>เบนซิน</td>\n",
       "      <td>เต๊นท์รถ</td>\n",
       "      <td>Manual</td>\n",
       "      <td>1.0</td>\n",
       "      <td>6</td>\n",
       "    </tr>\n",
       "    <tr>\n",
       "      <th>497</th>\n",
       "      <td>Fiat</td>\n",
       "      <td>2018</td>\n",
       "      <td>650000</td>\n",
       "      <td>38083.0</td>\n",
       "      <td>ดีเซล</td>\n",
       "      <td>เต๊นท์รถ</td>\n",
       "      <td>Manual</td>\n",
       "      <td>1.0</td>\n",
       "      <td>7</td>\n",
       "    </tr>\n",
       "    <tr>\n",
       "      <th>498</th>\n",
       "      <td>Ford</td>\n",
       "      <td>2012</td>\n",
       "      <td>400000</td>\n",
       "      <td>55328.0</td>\n",
       "      <td>ดีเซล</td>\n",
       "      <td>เต๊นท์รถ</td>\n",
       "      <td>Manual</td>\n",
       "      <td>2.0</td>\n",
       "      <td>13</td>\n",
       "    </tr>\n",
       "    <tr>\n",
       "      <th>499</th>\n",
       "      <td>Ford</td>\n",
       "      <td>2012</td>\n",
       "      <td>425000</td>\n",
       "      <td>81632.0</td>\n",
       "      <td>ดีเซล</td>\n",
       "      <td>เต๊นท์รถ</td>\n",
       "      <td>Manual</td>\n",
       "      <td>1.0</td>\n",
       "      <td>13</td>\n",
       "    </tr>\n",
       "    <tr>\n",
       "      <th>500</th>\n",
       "      <td>Ford</td>\n",
       "      <td>2016</td>\n",
       "      <td>600000</td>\n",
       "      <td>155201.0</td>\n",
       "      <td>ดีเซล</td>\n",
       "      <td>เต๊นท์รถ</td>\n",
       "      <td>Manual</td>\n",
       "      <td>1.0</td>\n",
       "      <td>9</td>\n",
       "    </tr>\n",
       "  </tbody>\n",
       "</table>\n",
       "<p>501 rows × 9 columns</p>\n",
       "</div>"
      ],
      "text/plain": [
       "                   ยี่ห้อ ปีที่ออกขายครั้งแรก ราคาขายมือสอง  \\\n",
       "0                  Suzuki                2007         60000   \n",
       "1                  Suzuki                2007        135000   \n",
       "2    Hyundai Verna 1.6 SX                2012        600000   \n",
       "3              Mitsubishi                2017        250000   \n",
       "4                   Honda                2014        450000   \n",
       "..                    ...                 ...           ...   \n",
       "496                  Ford                2019        700000   \n",
       "497                  Fiat                2018        650000   \n",
       "498                  Ford                2012        400000   \n",
       "499                  Ford                2012        425000   \n",
       "500                  Ford                2016        600000   \n",
       "\n",
       "     กิโลเมตรที่ขับไปแล้ว ประเภทเชื้อเพลิง ประเภทผู้ขายรถ ประเภทเกียร์  \\\n",
       "0                 70000.0           เบนซิน  เจ้าของขายเอง       Manual   \n",
       "1                 50000.0           เบนซิน  เจ้าของขายเอง       Manual   \n",
       "2                100000.0            ดีเซล  เจ้าของขายเอง       Manual   \n",
       "3                 46000.0           เบนซิน  เจ้าของขายเอง       Manual   \n",
       "4                141000.0            ดีเซล  เจ้าของขายเอง       Manual   \n",
       "..                    ...              ...            ...          ...   \n",
       "496               12586.0           เบนซิน       เต๊นท์รถ       Manual   \n",
       "497               38083.0            ดีเซล       เต๊นท์รถ       Manual   \n",
       "498               55328.0            ดีเซล       เต๊นท์รถ       Manual   \n",
       "499               81632.0            ดีเซล       เต๊นท์รถ       Manual   \n",
       "500              155201.0            ดีเซล       เต๊นท์รถ       Manual   \n",
       "\n",
       "     จำนวนเจ้าของรถในอดีต อายุของรถ  \n",
       "0                     3.0        18  \n",
       "1                     1.0        18  \n",
       "2                     1.0        13  \n",
       "3                     1.0         8  \n",
       "4                     2.0        11  \n",
       "..                    ...       ...  \n",
       "496                   1.0         6  \n",
       "497                   1.0         7  \n",
       "498                   2.0        13  \n",
       "499                   1.0        13  \n",
       "500                   1.0         9  \n",
       "\n",
       "[501 rows x 9 columns]"
      ]
     },
     "execution_count": 20,
     "metadata": {},
     "output_type": "execute_result"
    }
   ],
   "source": [
    "df = df.copy()\n",
    "df['อายุของรถ'] = 2025 - df['ปีที่ออกขายครั้งแรก']\n",
    "df"
   ]
  },
  {
   "cell_type": "markdown",
   "id": "5550f5da-851f-4e91-8006-0bc1f53f1487",
   "metadata": {},
   "source": [
    "# Encode"
   ]
  },
  {
   "cell_type": "code",
   "execution_count": 21,
   "id": "a3066d60-d428-4af8-adce-4f5e8dd0548e",
   "metadata": {},
   "outputs": [],
   "source": [
    "df_encoded = pd.get_dummies(df, columns=['ยี่ห้อ', 'ประเภทเกียร์', 'ประเภทเชื้อเพลิง', 'ประเภทผู้ขายรถ'])"
   ]
  },
  {
   "cell_type": "markdown",
   "id": "ca4bd897-2e7d-44eb-876b-b38789ed5b41",
   "metadata": {},
   "source": [
    "# Sampling"
   ]
  },
  {
   "cell_type": "code",
   "execution_count": 22,
   "id": "5f02eb38-acd3-4151-b759-2b58f90a2394",
   "metadata": {},
   "outputs": [],
   "source": [
    "X = df_encoded.drop('ราคาขายมือสอง', axis=1)\n",
    "y = df_encoded['ราคาขายมือสอง']\n",
    "X_train, X_test, y_train, y_test = train_test_split(X, y, test_size=0.2, random_state=42)"
   ]
  },
  {
   "cell_type": "markdown",
   "id": "11f56342-01d8-4566-8515-c04bb2e41867",
   "metadata": {},
   "source": [
    "# Attempt 1: DecisionTreeRegressor + GridSearchCV"
   ]
  },
  {
   "cell_type": "code",
   "execution_count": 23,
   "id": "1265e47e-2958-441f-8092-767572e3c64b",
   "metadata": {},
   "outputs": [],
   "source": [
    "from sklearn.tree import DecisionTreeRegressor"
   ]
  },
  {
   "cell_type": "code",
   "execution_count": 24,
   "id": "1239074a-6b63-4257-ae0a-948895e922da",
   "metadata": {},
   "outputs": [
    {
     "name": "stdout",
     "output_type": "stream",
     "text": [
      "{'max_depth': 20, 'min_samples_split': 30}\n",
      "0.5558711094399773\n"
     ]
    }
   ],
   "source": [
    "parameters_grid = {\n",
    "    'max_depth': [5,10,15,20,25,30],\n",
    "    'min_samples_split': [5,10,15,20,25,30]\n",
    "}\n",
    "\n",
    "grid = GridSearchCV(DecisionTreeRegressor(), param_grid=parameters_grid, cv=5)\n",
    "grid.fit(X_train, y_train)\n",
    "print(grid.best_params_)\n",
    "print(grid.best_score_)"
   ]
  },
  {
   "cell_type": "code",
   "execution_count": 25,
   "id": "ee68326b-9e72-4ad6-9a95-79b174fa1ba3",
   "metadata": {},
   "outputs": [
    {
     "data": {
      "text/plain": [
       "0.5949067962884151"
      ]
     },
     "execution_count": 25,
     "metadata": {},
     "output_type": "execute_result"
    }
   ],
   "source": [
    "grid.score(X_test, y_test)"
   ]
  },
  {
   "cell_type": "markdown",
   "id": "b4a9c3c2-c27a-458b-b20d-4565e69e9619",
   "metadata": {},
   "source": [
    "# Attempt 2: RandomForestRegressor + GridSearchCV"
   ]
  },
  {
   "cell_type": "code",
   "execution_count": 26,
   "id": "a0197d81-bd32-4102-94f9-d543f8105721",
   "metadata": {},
   "outputs": [],
   "source": [
    "from sklearn.ensemble import RandomForestRegressor"
   ]
  },
  {
   "cell_type": "code",
   "execution_count": 34,
   "id": "c2ecd081-252f-4112-b370-d31b711ee4b0",
   "metadata": {},
   "outputs": [
    {
     "name": "stdout",
     "output_type": "stream",
     "text": [
      "{'max_depth': 7, 'min_samples_leaf': 1, 'min_samples_split': 5, 'n_estimators': 100}\n",
      "0.5806413602415855\n"
     ]
    }
   ],
   "source": [
    "parameters_grid = {\n",
    "    'n_estimators': [100, 200, 300],\n",
    "    'max_depth': [3, 5, 7],\n",
    "    'min_samples_split': [2, 5, 10],\n",
    "    'min_samples_leaf': [1, 3, 5],\n",
    "}\n",
    "\n",
    "grid = GridSearchCV(RandomForestRegressor(random_state=42), parameters_grid, cv=5)\n",
    "grid.fit(X_train, y_train)\n",
    "print(grid.best_params_)\n",
    "print(grid.best_score_)"
   ]
  },
  {
   "cell_type": "code",
   "execution_count": 35,
   "id": "7e3a001c-6060-4683-9c2c-10e991c45a47",
   "metadata": {},
   "outputs": [
    {
     "data": {
      "text/plain": [
       "0.6884071704305917"
      ]
     },
     "execution_count": 35,
     "metadata": {},
     "output_type": "execute_result"
    }
   ],
   "source": [
    "grid.score(X_test, y_test)"
   ]
  },
  {
   "cell_type": "markdown",
   "id": "c41f5acf-ea19-491c-864f-95d69c8f4cbb",
   "metadata": {},
   "source": [
    "# Attempt 3: GradiantBoostingRegressor + GridSearchCV"
   ]
  },
  {
   "cell_type": "code",
   "execution_count": 38,
   "id": "b5360abf-2d10-4a77-9aff-752850defcfd",
   "metadata": {},
   "outputs": [],
   "source": [
    "from sklearn.ensemble import GradientBoostingRegressor"
   ]
  },
  {
   "cell_type": "code",
   "execution_count": 40,
   "id": "25546e15-d21d-47be-80c1-4cd65e17f9f2",
   "metadata": {},
   "outputs": [
    {
     "name": "stdout",
     "output_type": "stream",
     "text": [
      "{'learning_rate': 0.2, 'max_depth': 3, 'min_samples_leaf': 3, 'min_samples_split': 10, 'n_estimators': 100, 'subsample': 1.0}\n",
      "0.6537260313775732\n"
     ]
    }
   ],
   "source": [
    "parameters_grid = {\n",
    "    'n_estimators': [100, 200, 300],\n",
    "    'learning_rate': [0.01, 0.05, 0.1, 0.2],\n",
    "    'max_depth': [3, 5, 7],\n",
    "    'min_samples_split': [2, 5, 10],\n",
    "    'min_samples_leaf': [1, 3, 5],\n",
    "    'subsample': [0.8, 1.0]\n",
    "}\n",
    "\n",
    "grid = GridSearchCV(GradientBoostingRegressor(random_state=42), parameters_grid, cv=5)\n",
    "grid.fit(X_train, y_train)\n",
    "print(grid.best_params_)\n",
    "print(grid.best_score_)"
   ]
  },
  {
   "cell_type": "code",
   "execution_count": 42,
   "id": "111ae9a5-fa9f-4935-86d0-59986ed82fbf",
   "metadata": {},
   "outputs": [
    {
     "data": {
      "text/plain": [
       "0.7370552654798392"
      ]
     },
     "execution_count": 42,
     "metadata": {},
     "output_type": "execute_result"
    }
   ],
   "source": [
    "grid.score(X_test, y_test)"
   ]
  }
 ],
 "metadata": {
  "kernelspec": {
   "display_name": "Python 3 (ipykernel)",
   "language": "python",
   "name": "python3"
  },
  "language_info": {
   "codemirror_mode": {
    "name": "ipython",
    "version": 3
   },
   "file_extension": ".py",
   "mimetype": "text/x-python",
   "name": "python",
   "nbconvert_exporter": "python",
   "pygments_lexer": "ipython3",
   "version": "3.11.9"
  }
 },
 "nbformat": 4,
 "nbformat_minor": 5
}
